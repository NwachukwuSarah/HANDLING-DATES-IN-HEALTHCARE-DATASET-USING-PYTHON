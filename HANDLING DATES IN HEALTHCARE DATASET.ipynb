{
 "cells": [
  {
   "cell_type": "markdown",
   "id": "b738f4b6",
   "metadata": {},
   "source": [
    "# IMPORTING RELEVANT LIBRARIES"
   ]
  },
  {
   "cell_type": "code",
   "execution_count": 1,
   "id": "1c80955f",
   "metadata": {},
   "outputs": [],
   "source": [
    "import pandas as pd\n",
    "import datetime\n",
    "import seaborn as sns"
   ]
  },
  {
   "cell_type": "markdown",
   "id": "dbed5569",
   "metadata": {},
   "source": [
    "# LOADING AND DISPLAYING THE DATASET"
   ]
  },
  {
   "cell_type": "code",
   "execution_count": 2,
   "id": "cd81e137",
   "metadata": {},
   "outputs": [
    {
     "data": {
      "text/html": [
       "<div>\n",
       "<style scoped>\n",
       "    .dataframe tbody tr th:only-of-type {\n",
       "        vertical-align: middle;\n",
       "    }\n",
       "\n",
       "    .dataframe tbody tr th {\n",
       "        vertical-align: top;\n",
       "    }\n",
       "\n",
       "    .dataframe thead th {\n",
       "        text-align: right;\n",
       "    }\n",
       "</style>\n",
       "<table border=\"1\" class=\"dataframe\">\n",
       "  <thead>\n",
       "    <tr style=\"text-align: right;\">\n",
       "      <th></th>\n",
       "      <th>Name</th>\n",
       "      <th>Age</th>\n",
       "      <th>Gender</th>\n",
       "      <th>Blood Type</th>\n",
       "      <th>Medical Condition</th>\n",
       "      <th>Date of Admission</th>\n",
       "      <th>Doctor</th>\n",
       "      <th>Hospital</th>\n",
       "      <th>Insurance Provider</th>\n",
       "      <th>Billing Amount</th>\n",
       "      <th>Room Number</th>\n",
       "      <th>Admission Type</th>\n",
       "      <th>Discharge Date</th>\n",
       "      <th>Medication</th>\n",
       "      <th>Test Results</th>\n",
       "    </tr>\n",
       "  </thead>\n",
       "  <tbody>\n",
       "    <tr>\n",
       "      <th>0</th>\n",
       "      <td>Lynn Fernandez</td>\n",
       "      <td>24</td>\n",
       "      <td>Female</td>\n",
       "      <td>AB+</td>\n",
       "      <td>Hypertension</td>\n",
       "      <td>2023-12-01</td>\n",
       "      <td>Dr. Shannon David</td>\n",
       "      <td>Richardson-Bryant</td>\n",
       "      <td>UnitedHealthcare</td>\n",
       "      <td>39004.169781</td>\n",
       "      <td>127</td>\n",
       "      <td>Urgent</td>\n",
       "      <td>2023-12-08</td>\n",
       "      <td>Aspirin</td>\n",
       "      <td>Normal</td>\n",
       "    </tr>\n",
       "    <tr>\n",
       "      <th>1</th>\n",
       "      <td>Brittany Stewart</td>\n",
       "      <td>51</td>\n",
       "      <td>Male</td>\n",
       "      <td>AB-</td>\n",
       "      <td>Obesity</td>\n",
       "      <td>2019-12-28</td>\n",
       "      <td>Dr. Richard Rodriguez</td>\n",
       "      <td>Nunez-Leon</td>\n",
       "      <td>Aetna</td>\n",
       "      <td>42272.454522</td>\n",
       "      <td>477</td>\n",
       "      <td>Urgent</td>\n",
       "      <td>2020-01-23</td>\n",
       "      <td>Aspirin</td>\n",
       "      <td>Inconclusive</td>\n",
       "    </tr>\n",
       "    <tr>\n",
       "      <th>2</th>\n",
       "      <td>Stephanie Parker</td>\n",
       "      <td>42</td>\n",
       "      <td>Male</td>\n",
       "      <td>AB+</td>\n",
       "      <td>Cancer</td>\n",
       "      <td>2021-03-09</td>\n",
       "      <td>Dr. Kerri Santiago</td>\n",
       "      <td>Roberts-Gonzalez</td>\n",
       "      <td>Cigna</td>\n",
       "      <td>14198.831475</td>\n",
       "      <td>179</td>\n",
       "      <td>Elective</td>\n",
       "      <td>2021-04-04</td>\n",
       "      <td>Paracetamol</td>\n",
       "      <td>Inconclusive</td>\n",
       "    </tr>\n",
       "    <tr>\n",
       "      <th>3</th>\n",
       "      <td>Robert Spence</td>\n",
       "      <td>54</td>\n",
       "      <td>Female</td>\n",
       "      <td>A+</td>\n",
       "      <td>Obesity</td>\n",
       "      <td>2023-04-27</td>\n",
       "      <td>Dr. Stacy Love</td>\n",
       "      <td>Vincent LLC</td>\n",
       "      <td>Aetna</td>\n",
       "      <td>38028.088189</td>\n",
       "      <td>252</td>\n",
       "      <td>Elective</td>\n",
       "      <td>2023-05-03</td>\n",
       "      <td>Lipitor</td>\n",
       "      <td>Abnormal</td>\n",
       "    </tr>\n",
       "    <tr>\n",
       "      <th>4</th>\n",
       "      <td>William Glenn</td>\n",
       "      <td>81</td>\n",
       "      <td>Male</td>\n",
       "      <td>B-</td>\n",
       "      <td>Cancer</td>\n",
       "      <td>2023-11-18</td>\n",
       "      <td>Dr. Paul Key</td>\n",
       "      <td>Andrews PLC</td>\n",
       "      <td>Aetna</td>\n",
       "      <td>21768.337386</td>\n",
       "      <td>326</td>\n",
       "      <td>Emergency</td>\n",
       "      <td>2023-11-21</td>\n",
       "      <td>Penicillin</td>\n",
       "      <td>Inconclusive</td>\n",
       "    </tr>\n",
       "    <tr>\n",
       "      <th>...</th>\n",
       "      <td>...</td>\n",
       "      <td>...</td>\n",
       "      <td>...</td>\n",
       "      <td>...</td>\n",
       "      <td>...</td>\n",
       "      <td>...</td>\n",
       "      <td>...</td>\n",
       "      <td>...</td>\n",
       "      <td>...</td>\n",
       "      <td>...</td>\n",
       "      <td>...</td>\n",
       "      <td>...</td>\n",
       "      <td>...</td>\n",
       "      <td>...</td>\n",
       "      <td>...</td>\n",
       "    </tr>\n",
       "    <tr>\n",
       "      <th>2995</th>\n",
       "      <td>Tyrone Clark Md</td>\n",
       "      <td>33</td>\n",
       "      <td>Male</td>\n",
       "      <td>AB-</td>\n",
       "      <td>Cancer</td>\n",
       "      <td>2022-09-10</td>\n",
       "      <td>Dr. Lucas Martinez</td>\n",
       "      <td>Singleton Hill, Wilson and</td>\n",
       "      <td>Cigna</td>\n",
       "      <td>35776.119371</td>\n",
       "      <td>323</td>\n",
       "      <td>Elective</td>\n",
       "      <td>2022-09-21</td>\n",
       "      <td>Penicillin</td>\n",
       "      <td>Normal</td>\n",
       "    </tr>\n",
       "    <tr>\n",
       "      <th>2996</th>\n",
       "      <td>Daniel Hanna</td>\n",
       "      <td>27</td>\n",
       "      <td>Male</td>\n",
       "      <td>AB-</td>\n",
       "      <td>Obesity</td>\n",
       "      <td>2022-12-18</td>\n",
       "      <td>Dr. Teresa Johnson</td>\n",
       "      <td>Oliver-Sloan</td>\n",
       "      <td>UnitedHealthcare</td>\n",
       "      <td>10589.629630</td>\n",
       "      <td>427</td>\n",
       "      <td>Elective</td>\n",
       "      <td>2022-12-24</td>\n",
       "      <td>Ibuprofen</td>\n",
       "      <td>Abnormal</td>\n",
       "    </tr>\n",
       "    <tr>\n",
       "      <th>2997</th>\n",
       "      <td>Ian Mcclain</td>\n",
       "      <td>25</td>\n",
       "      <td>Male</td>\n",
       "      <td>AB-</td>\n",
       "      <td>Obesity</td>\n",
       "      <td>2023-05-26</td>\n",
       "      <td>Dr. Amy Anderson</td>\n",
       "      <td>Roth-Benton</td>\n",
       "      <td>UnitedHealthcare</td>\n",
       "      <td>35693.375034</td>\n",
       "      <td>260</td>\n",
       "      <td>Emergency</td>\n",
       "      <td>2023-06-25</td>\n",
       "      <td>Lipitor</td>\n",
       "      <td>Normal</td>\n",
       "    </tr>\n",
       "    <tr>\n",
       "      <th>2998</th>\n",
       "      <td>Garrett Ferguson</td>\n",
       "      <td>53</td>\n",
       "      <td>Male</td>\n",
       "      <td>A-</td>\n",
       "      <td>Hypertension</td>\n",
       "      <td>2021-12-13</td>\n",
       "      <td>Dr. Perry Salazar</td>\n",
       "      <td>Smith-Griffith</td>\n",
       "      <td>UnitedHealthcare</td>\n",
       "      <td>22908.424641</td>\n",
       "      <td>487</td>\n",
       "      <td>Urgent</td>\n",
       "      <td>2021-12-23</td>\n",
       "      <td>Paracetamol</td>\n",
       "      <td>Normal</td>\n",
       "    </tr>\n",
       "    <tr>\n",
       "      <th>2999</th>\n",
       "      <td>Jacqueline Smith</td>\n",
       "      <td>83</td>\n",
       "      <td>Male</td>\n",
       "      <td>AB+</td>\n",
       "      <td>Asthma</td>\n",
       "      <td>2022-03-17</td>\n",
       "      <td>Dr. Laura Murphy</td>\n",
       "      <td>Reed Ware Roman, and</td>\n",
       "      <td>Medicare</td>\n",
       "      <td>41104.201960</td>\n",
       "      <td>265</td>\n",
       "      <td>Emergency</td>\n",
       "      <td>2022-03-26</td>\n",
       "      <td>Lipitor</td>\n",
       "      <td>Normal</td>\n",
       "    </tr>\n",
       "  </tbody>\n",
       "</table>\n",
       "<p>3000 rows × 15 columns</p>\n",
       "</div>"
      ],
      "text/plain": [
       "                  Name  Age  Gender Blood Type Medical Condition  \\\n",
       "0       Lynn Fernandez   24  Female        AB+      Hypertension   \n",
       "1     Brittany Stewart   51    Male        AB-           Obesity   \n",
       "2     Stephanie Parker   42    Male        AB+            Cancer   \n",
       "3        Robert Spence   54  Female         A+           Obesity   \n",
       "4        William Glenn   81    Male         B-            Cancer   \n",
       "...                ...  ...     ...        ...               ...   \n",
       "2995   Tyrone Clark Md   33    Male        AB-            Cancer   \n",
       "2996      Daniel Hanna   27    Male        AB-           Obesity   \n",
       "2997       Ian Mcclain   25    Male        AB-           Obesity   \n",
       "2998  Garrett Ferguson   53    Male         A-      Hypertension   \n",
       "2999  Jacqueline Smith   83    Male        AB+            Asthma   \n",
       "\n",
       "     Date of Admission                 Doctor                    Hospital  \\\n",
       "0           2023-12-01      Dr. Shannon David           Richardson-Bryant   \n",
       "1           2019-12-28  Dr. Richard Rodriguez                  Nunez-Leon   \n",
       "2           2021-03-09     Dr. Kerri Santiago            Roberts-Gonzalez   \n",
       "3           2023-04-27         Dr. Stacy Love                 Vincent LLC   \n",
       "4           2023-11-18           Dr. Paul Key                 Andrews PLC   \n",
       "...                ...                    ...                         ...   \n",
       "2995        2022-09-10     Dr. Lucas Martinez  Singleton Hill, Wilson and   \n",
       "2996        2022-12-18     Dr. Teresa Johnson                Oliver-Sloan   \n",
       "2997        2023-05-26       Dr. Amy Anderson                 Roth-Benton   \n",
       "2998        2021-12-13      Dr. Perry Salazar              Smith-Griffith   \n",
       "2999        2022-03-17       Dr. Laura Murphy        Reed Ware Roman, and   \n",
       "\n",
       "     Insurance Provider  Billing Amount  Room Number Admission Type  \\\n",
       "0      UnitedHealthcare    39004.169781          127         Urgent   \n",
       "1                 Aetna    42272.454522          477         Urgent   \n",
       "2                 Cigna    14198.831475          179       Elective   \n",
       "3                 Aetna    38028.088189          252       Elective   \n",
       "4                 Aetna    21768.337386          326      Emergency   \n",
       "...                 ...             ...          ...            ...   \n",
       "2995              Cigna    35776.119371          323       Elective   \n",
       "2996   UnitedHealthcare    10589.629630          427       Elective   \n",
       "2997   UnitedHealthcare    35693.375034          260      Emergency   \n",
       "2998   UnitedHealthcare    22908.424641          487         Urgent   \n",
       "2999           Medicare    41104.201960          265      Emergency   \n",
       "\n",
       "     Discharge Date   Medication  Test Results  \n",
       "0        2023-12-08      Aspirin        Normal  \n",
       "1        2020-01-23      Aspirin  Inconclusive  \n",
       "2        2021-04-04  Paracetamol  Inconclusive  \n",
       "3        2023-05-03      Lipitor      Abnormal  \n",
       "4        2023-11-21   Penicillin  Inconclusive  \n",
       "...             ...          ...           ...  \n",
       "2995     2022-09-21   Penicillin        Normal  \n",
       "2996     2022-12-24    Ibuprofen      Abnormal  \n",
       "2997     2023-06-25      Lipitor        Normal  \n",
       "2998     2021-12-23  Paracetamol        Normal  \n",
       "2999     2022-03-26      Lipitor        Normal  \n",
       "\n",
       "[3000 rows x 15 columns]"
      ]
     },
     "metadata": {},
     "output_type": "display_data"
    }
   ],
   "source": [
    "healthData = pd.read_csv('healthcare_dataset(Incorrect Date Format).csv', encoding = 'utf-8')\n",
    "display(healthData)"
   ]
  },
  {
   "cell_type": "markdown",
   "id": "c5d4e1ad",
   "metadata": {},
   "source": [
    "# CHECKING THE DATATYPES OF DATE COLUMNS BEFORE PARSING THE DATES"
   ]
  },
  {
   "cell_type": "code",
   "execution_count": 3,
   "id": "61b65f49",
   "metadata": {},
   "outputs": [
    {
     "data": {
      "text/plain": [
       "Name                   object\n",
       "Age                     int64\n",
       "Gender                 object\n",
       "Blood Type             object\n",
       "Medical Condition      object\n",
       "Date of Admission      object\n",
       "Doctor                 object\n",
       "Hospital               object\n",
       "Insurance Provider     object\n",
       "Billing Amount        float64\n",
       "Room Number             int64\n",
       "Admission Type         object\n",
       "Discharge Date         object\n",
       "Medication             object\n",
       "Test Results           object\n",
       "dtype: object"
      ]
     },
     "metadata": {},
     "output_type": "display_data"
    }
   ],
   "source": [
    "display(healthData.dtypes)"
   ]
  },
  {
   "cell_type": "markdown",
   "id": "83a84f66",
   "metadata": {},
   "source": [
    "# CONVERTING DATE OF ADMISSION TO DATETIME"
   ]
  },
  {
   "cell_type": "code",
   "execution_count": 4,
   "id": "a5383c08",
   "metadata": {},
   "outputs": [],
   "source": [
    "healthData['Date of Admission'] = pd.to_datetime(healthData['Date of Admission'], format=\"%Y-%m-%d\")"
   ]
  },
  {
   "cell_type": "code",
   "execution_count": 5,
   "id": "20575888",
   "metadata": {},
   "outputs": [
    {
     "data": {
      "text/plain": [
       "0      2023-12-01\n",
       "1      2019-12-28\n",
       "2      2021-03-09\n",
       "3      2023-04-27\n",
       "4      2023-11-18\n",
       "          ...    \n",
       "2995   2022-09-10\n",
       "2996   2022-12-18\n",
       "2997   2023-05-26\n",
       "2998   2021-12-13\n",
       "2999   2022-03-17\n",
       "Name: Date of Admission, Length: 3000, dtype: datetime64[ns]"
      ]
     },
     "metadata": {},
     "output_type": "display_data"
    }
   ],
   "source": [
    "display(healthData['Date of Admission'])"
   ]
  },
  {
   "cell_type": "code",
   "execution_count": 6,
   "id": "d1d905cd",
   "metadata": {},
   "outputs": [],
   "source": [
    "Day = healthData['Date of Admission'].dt.day"
   ]
  },
  {
   "cell_type": "code",
   "execution_count": 7,
   "id": "45f00a31",
   "metadata": {},
   "outputs": [
    {
     "data": {
      "text/plain": [
       "<AxesSubplot:xlabel='Date of Admission', ylabel='Count'>"
      ]
     },
     "execution_count": 7,
     "metadata": {},
     "output_type": "execute_result"
    },
    {
     "data": {
      "image/png": "[encoded data removed]",
      "text/plain": [
       "<Figure size 640x480 with 1 Axes>"
      ]
     },
     "metadata": {},
     "output_type": "display_data"
    }
   ],
   "source": [
    "# Checking if the date conversion was done properly\n",
    "sns.histplot(Day, kde = False, bins = 31)"
   ]
  },
  {
   "cell_type": "markdown",
   "id": "9557af8e",
   "metadata": {},
   "source": [
    "# CONVERTING DISCHARGE DATE TO DATETIME"
   ]
  },
  {
   "cell_type": "code",
   "execution_count": 8,
   "id": "b496e951",
   "metadata": {},
   "outputs": [],
   "source": [
    "healthData['Discharge Date'] = pd.to_datetime(healthData['Discharge Date'], format=\"%Y-%m-%d\")"
   ]
  },
  {
   "cell_type": "code",
   "execution_count": 9,
   "id": "7f654c46",
   "metadata": {},
   "outputs": [
    {
     "data": {
      "text/plain": [
       "0      2023-12-08\n",
       "1      2020-01-23\n",
       "2      2021-04-04\n",
       "3      2023-05-03\n",
       "4      2023-11-21\n",
       "          ...    \n",
       "2995   2022-09-21\n",
       "2996   2022-12-24\n",
       "2997   2023-06-25\n",
       "2998   2021-12-23\n",
       "2999   2022-03-26\n",
       "Name: Discharge Date, Length: 3000, dtype: datetime64[ns]"
      ]
     },
     "metadata": {},
     "output_type": "display_data"
    }
   ],
   "source": [
    "display(healthData['Discharge Date'])"
   ]
  },
  {
   "cell_type": "code",
   "execution_count": 10,
   "id": "fe6d314c",
   "metadata": {},
   "outputs": [
    {
     "data": {
      "text/plain": [
       "<AxesSubplot:xlabel='Discharge Date', ylabel='Count'>"
      ]
     },
     "execution_count": 10,
     "metadata": {},
     "output_type": "execute_result"
    },
    {
     "data": {
      "image/png": "[encoded data removed]",
      "text/plain": [
       "<Figure size 640x480 with 1 Axes>"
      ]
     },
     "metadata": {},
     "output_type": "display_data"
    }
   ],
   "source": [
    "# Making sure that the dates and months are parsed correctly\n",
    "Day = healthData['Discharge Date'].dt.day\n",
    "sns.histplot(Day, kde = False, bins = 31)"
   ]
  },
  {
   "cell_type": "markdown",
   "id": "458afd97",
   "metadata": {},
   "source": [
    "# CHECKING THE DATATYPE AGAIN AFTER PARSING THE DATES"
   ]
  },
  {
   "cell_type": "code",
   "execution_count": 11,
   "id": "a047e82b",
   "metadata": {},
   "outputs": [
    {
     "data": {
      "text/plain": [
       "Name                          object\n",
       "Age                            int64\n",
       "Gender                        object\n",
       "Blood Type                    object\n",
       "Medical Condition             object\n",
       "Date of Admission     datetime64[ns]\n",
       "Doctor                        object\n",
       "Hospital                      object\n",
       "Insurance Provider            object\n",
       "Billing Amount               float64\n",
       "Room Number                    int64\n",
       "Admission Type                object\n",
       "Discharge Date        datetime64[ns]\n",
       "Medication                    object\n",
       "Test Results                  object\n",
       "dtype: object"
      ]
     },
     "metadata": {},
     "output_type": "display_data"
    }
   ],
   "source": [
    "display(healthData.dtypes)"
   ]
  },
  {
   "cell_type": "markdown",
   "id": "3d50dfcb",
   "metadata": {},
   "source": [
    "# SAVING THE DATASET"
   ]
  },
  {
   "cell_type": "code",
   "execution_count": 12,
   "id": "b7f45895",
   "metadata": {},
   "outputs": [],
   "source": [
    "healthData.to_csv('healthcare_dataset(Dates Converted).csv', encoding = 'utf-8', index = False)"
   ]
  },
  {
   "cell_type": "code",
   "execution_count": null,
   "id": "f1e0d636",
   "metadata": {},
   "outputs": [],
   "source": []
  }
 ],
 "metadata": {
  "kernelspec": {
   "display_name": "Python 3 (ipykernel)",
   "language": "python",
   "name": "python3"
  },
  "language_info": {
   "codemirror_mode": {
    "name": "ipython",
    "version": 3
   },
   "file_extension": ".py",
   "mimetype": "text/x-python",
   "name": "python",
   "nbconvert_exporter": "python",
   "pygments_lexer": "ipython3",
   "version": "3.9.13"
  }
 },
 "nbformat": 4,
 "nbformat_minor": 5
}
